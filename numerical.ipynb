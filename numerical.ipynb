{
 "cells": [
  {
   "cell_type": "code",
   "execution_count": 2,
   "metadata": {},
   "outputs": [],
   "source": [
    "import numpy as np"
   ]
  },
  {
   "cell_type": "code",
   "execution_count": 3,
   "metadata": {},
   "outputs": [],
   "source": [
    "def gauss(A, b):\n",
    "    n = A.shape[0]\n",
    "    aug = np.concatenate([A, b.T], axis=1)\n",
    "    \n",
    "    for k in range(n):\n",
    "        for i in range(k+1, n):\n",
    "            m = -aug[i, k] / aug[k, k]\n",
    "            aug[i] += m * aug[k]\n",
    "    \n",
    "    return aug"
   ]
  },
  {
   "cell_type": "code",
   "execution_count": 4,
   "metadata": {},
   "outputs": [],
   "source": [
    "def upper_solve(aug):\n",
    "    n = aug.shape[0]\n",
    "    x = []\n",
    "    for i in range(n-1, -1, -1):\n",
    "        xi = aug[i, n] / aug[i, i]\n",
    "        aug[:, n] -= xi * aug[:, i]\n",
    "        x.append(xi)\n",
    "    \n",
    "    x.reverse()\n",
    "    return x"
   ]
  },
  {
   "cell_type": "code",
   "execution_count": 5,
   "metadata": {},
   "outputs": [],
   "source": [
    "def lower_solve(aug):\n",
    "    n = aug.shape[0]\n",
    "    x = []\n",
    "    for i in range(n):\n",
    "        xi = aug[i, n] / aug[i, i]\n",
    "        aug[:, n] -= xi * aug[:, i]\n",
    "        x.append(xi)\n",
    "    \n",
    "    return x"
   ]
  },
  {
   "cell_type": "code",
   "execution_count": 6,
   "metadata": {},
   "outputs": [],
   "source": [
    "def solve_gauss(A, b):\n",
    "    n = A.shape[0]\n",
    "    aug = gauss(A, b)\n",
    "    return upper_solve(aug)"
   ]
  },
  {
   "cell_type": "code",
   "execution_count": 7,
   "metadata": {},
   "outputs": [],
   "source": [
    "def lu_gauss(B):\n",
    "    A = B.copy()\n",
    "    n = A.shape[0]\n",
    "    M = []\n",
    "    \n",
    "    for k in range(n):\n",
    "        idt = np.eye(n)\n",
    "        \n",
    "        for i in range(k+1, n):\n",
    "            m = -A[i, k] / A[k, k]\n",
    "            idt[i, k] = -m\n",
    "            A[i] += m * A[k]\n",
    "        \n",
    "        M.append(idt)\n",
    "    \n",
    "    M_product = np.linalg.multi_dot(M)\n",
    "    return M_product, A"
   ]
  },
  {
   "cell_type": "code",
   "execution_count": 8,
   "metadata": {},
   "outputs": [],
   "source": [
    "def my_lu(A):\n",
    "    n = A.shape[0]\n",
    "    L = np.eye(n)\n",
    "    U = np.zeros_like(A)\n",
    "    \n",
    "    for i in range(n):\n",
    "        for j in range(i, n):\n",
    "            U[i, j] = A[i, j] - np.dot(L[i, :i], U[:i, j])\n",
    "            if i != j:\n",
    "                L[j, i] = (A[j, i] - np.dot(L[j, :i], U[:i, i]))/U[i, i]\n",
    "    return L, U"
   ]
  },
  {
   "cell_type": "code",
   "execution_count": 9,
   "metadata": {},
   "outputs": [],
   "source": [
    "def solve_lu(L, U, b):\n",
    "    #L, U = lu_decomposition(A)\n",
    "    \n",
    "    y = np.dot(np.linalg.inv(L), b.T)\n",
    "    x = np.dot(np.linalg.inv(U), y)\n",
    "    \n",
    "    return x"
   ]
  },
  {
   "cell_type": "code",
   "execution_count": 10,
   "metadata": {},
   "outputs": [],
   "source": [
    "def inverse(A):\n",
    "    n = A.shape[0]\n",
    "    L, U = my_lu(A)\n",
    "    Id = np.eye(n)\n",
    "    inv = list()\n",
    "    for i in range(n):\n",
    "        ei = Id[:, i]\n",
    "        inv.append(np.expand_dims(solve_lu(L, U, ei), 1))\n",
    "    return np.concatenate(inv, axis=1)"
   ]
  },
  {
   "cell_type": "code",
   "execution_count": 11,
   "metadata": {},
   "outputs": [
    {
     "data": {
      "text/plain": [
       "array([[1., 0.],\n",
       "       [0., 1.]])"
      ]
     },
     "execution_count": 11,
     "metadata": {},
     "output_type": "execute_result"
    }
   ],
   "source": [
    "A = np.asarray([[-1, 3./2.], [1., -1.]])\n",
    "inverse(A)@A"
   ]
  }
 ],
 "metadata": {
  "kernelspec": {
   "display_name": "Python 3",
   "language": "python",
   "name": "python3"
  },
  "language_info": {
   "codemirror_mode": {
    "name": "ipython",
    "version": 3
   },
   "file_extension": ".py",
   "mimetype": "text/x-python",
   "name": "python",
   "nbconvert_exporter": "python",
   "pygments_lexer": "ipython3",
   "version": "3.6.9"
  }
 },
 "nbformat": 4,
 "nbformat_minor": 4
}
