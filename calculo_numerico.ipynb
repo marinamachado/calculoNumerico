{
 "cells": [
  {
   "cell_type": "code",
   "execution_count": 1,
   "metadata": {},
   "outputs": [],
   "source": [
    "import numpy as np\n",
    "from scipy.linalg import solve_triangular\n",
    "import time"
   ]
  },
  {
   "cell_type": "markdown",
   "metadata": {},
   "source": [
    "## Decomposição LU"
   ]
  },
  {
   "cell_type": "code",
   "execution_count": 2,
   "metadata": {},
   "outputs": [],
   "source": [
    "def lu_decomposition(A, b):\n",
    "    U = A.copy()\n",
    "    b = b.copy()\n",
    "    \n",
    "    n = len(b)\n",
    "    L = np.eye(n)\n",
    "    \n",
    "    for i in range(n):\n",
    "        pivot = U[i, i]\n",
    "            \n",
    "        for k in range(i+1, n):\n",
    "            m = U[k, i]/pivot\n",
    "            U[k] = U[k] - U[i]*m\n",
    "            b[k] = b[k] - b[i]*m\n",
    "            \n",
    "            L[k, i] = m\n",
    "    \n",
    "    return L, U, b"
   ]
  },
  {
   "cell_type": "code",
   "execution_count": 3,
   "metadata": {},
   "outputs": [],
   "source": [
    "A = np.array([[-1,2,-2,1], [-2,2,-3,0], [-2,0,-1,-3], [-2,0,0,-2]])\n",
    "b = np.array([1,1,1,1])\n",
    "\n",
    "L, U, b = lu_decomposition(A, b)"
   ]
  },
  {
   "cell_type": "code",
   "execution_count": 4,
   "metadata": {},
   "outputs": [
    {
     "data": {
      "text/plain": [
       "array([[1., 1.],\n",
       "       [0., 0.]])"
      ]
     },
     "execution_count": 4,
     "metadata": {},
     "output_type": "execute_result"
    }
   ],
   "source": [
    "A = np.array([[1, 1], \n",
    "              [0, 0]])\n",
    "\n",
    "b = np.array([1,1])\n",
    "\n",
    "L, U, b = lu_decomposition(A, b)\n",
    "L@U"
   ]
  },
  {
   "cell_type": "code",
   "execution_count": 5,
   "metadata": {},
   "outputs": [
    {
     "data": {
      "text/plain": [
       "array([[1, 0, 0, 0],\n",
       "       [2, 1, 0, 0],\n",
       "       [2, 2, 1, 0],\n",
       "       [2, 2, 2, 1]])"
      ]
     },
     "execution_count": 5,
     "metadata": {},
     "output_type": "execute_result"
    }
   ],
   "source": [
    "E1 = np.array([[1,0,0,0], \n",
    "               [2,1,0,0], \n",
    "               [2,0,1,0], \n",
    "               [2,0,0,1]])\n",
    "\n",
    "E2 = np.array([[1,0,0,0], \n",
    "               [0,1,0,0], \n",
    "               [0,2,1,0], \n",
    "               [0,2,0,1]])\n",
    "\n",
    "E3 = np.array([[1,0,0,0], \n",
    "               [0,1,0,0], \n",
    "               [0,0,1,0], \n",
    "               [0,0,2,1]])\n",
    "\n",
    "E1@E2@E3"
   ]
  },
  {
   "cell_type": "code",
   "execution_count": 6,
   "metadata": {},
   "outputs": [
    {
     "data": {
      "text/plain": [
       "array([[1, 1],\n",
       "       [0, 0]])"
      ]
     },
     "execution_count": 6,
     "metadata": {},
     "output_type": "execute_result"
    }
   ],
   "source": [
    "U"
   ]
  },
  {
   "cell_type": "markdown",
   "metadata": {},
   "source": [
    "## Eliminação Gaussiana"
   ]
  },
  {
   "cell_type": "code",
   "execution_count": 7,
   "metadata": {},
   "outputs": [],
   "source": [
    "def gaussian_elimination(A, b):\n",
    "    A = A.copy()\n",
    "    b = b.copy()\n",
    "    \n",
    "    n = len(b)\n",
    "    \n",
    "    for i in range(n):\n",
    "        pivot = A[i, i]\n",
    "            \n",
    "        for k in range(i+1, n):\n",
    "            m = A[k, i]/pivot\n",
    "            A[k] = A[k] - A[i]*m\n",
    "            b[k] = b[k] - b[i]*m\n",
    "    \n",
    "    return A, b"
   ]
  },
  {
   "cell_type": "code",
   "execution_count": 8,
   "metadata": {},
   "outputs": [],
   "source": [
    "def solve_upper(A, b):\n",
    "    A = A.copy()\n",
    "    b = b.copy()\n",
    "    \n",
    "    n = len(b)\n",
    "    solution = []\n",
    "    \n",
    "    for i in range(n-1, -1, -1):\n",
    "        sum_ = np.sum(A[i, i+1:n])\n",
    "        current_solution = (b[i] - sum_)/A[i,i]\n",
    "    \n",
    "        solution.append(current_solution)\n",
    "        A[:, i] = A[:, i] * current_solution\n",
    "        \n",
    "    return solution[::-1]"
   ]
  },
  {
   "cell_type": "code",
   "execution_count": 9,
   "metadata": {},
   "outputs": [],
   "source": [
    "def solve_lower(A, b):\n",
    "    A = A.copy()\n",
    "    b = b.copy()\n",
    "    \n",
    "    n = len(b)\n",
    "    solution = []\n",
    "    \n",
    "    for i in range(n):\n",
    "        sum_ = np.sum(A[i, 0:i])\n",
    "        current_solution = (b[i] - sum_)/A[i,i]\n",
    "    \n",
    "        solution.append(current_solution)\n",
    "        A[:, i] = A[:, i] * current_solution\n",
    "        \n",
    "    return solution"
   ]
  },
  {
   "cell_type": "markdown",
   "metadata": {},
   "source": [
    "## Decomposição de Cholesky\n",
    "\n",
    "<img src=\"images/cholesky.jpg\" width=\"500\">"
   ]
  },
  {
   "cell_type": "code",
   "execution_count": 10,
   "metadata": {},
   "outputs": [],
   "source": [
    "def cholesky(A):\n",
    "    n = len(A)\n",
    "    L = np.zeros((n, n))\n",
    "    \n",
    "    L[0, 0] = np.sqrt(A[0, 0])\n",
    "    \n",
    "    for i in range(1, n):\n",
    "        for j in range(0, i+1):\n",
    "            sum_ = 0\n",
    "            for k in range(0, j):\n",
    "                sum_ += L[i, k] * L[j, k]\n",
    "            \n",
    "            if i == j:           \n",
    "                L[i, i] = np.sqrt(A[i, i] - sum_)\n",
    "            else:\n",
    "                L[i, j] = (A[i, j] - sum_)/L[j, j]\n",
    "    \n",
    "    return L, L.transpose()"
   ]
  },
  {
   "cell_type": "code",
   "execution_count": 11,
   "metadata": {},
   "outputs": [],
   "source": [
    "def solve_cholesky(A, b):\n",
    "    # https://homepages.dcc.ufmg.br/~ana.coutosilva/Aulas-CN/SistemasLineares/Cholesky.pdf\n",
    "    \n",
    "    L, Lt = cholesky(A)\n",
    "    y = solve_lower(L, b)\n",
    "    \n",
    "    solution = solve_upper(Lt, y)\n",
    "    return solution"
   ]
  },
  {
   "cell_type": "code",
   "execution_count": 12,
   "metadata": {},
   "outputs": [],
   "source": [
    "import matplotlib.pyplot as plt"
   ]
  },
  {
   "cell_type": "markdown",
   "metadata": {},
   "source": [
    "## Gauss-Jacobi\n",
    "\n",
    "![jacobi](images/jacobi.png)"
   ]
  },
  {
   "cell_type": "code",
   "execution_count": 13,
   "metadata": {},
   "outputs": [],
   "source": [
    "def jacobi(A, b):\n",
    "    n = len(b)\n",
    "    x = np.random.rand(n)\n",
    "    k = np.random.rand(n)\n",
    "    \n",
    "    for _ in range(1000):\n",
    "        for i in range(n):\n",
    "            sum_ = 0\n",
    "            for j in range(n):   \n",
    "                if i != j:\n",
    "                    sum_ += A[i, j] * k[j]\n",
    "            \n",
    "            x[i] = (b[i] - sum_)/A[i, i]\n",
    "        \n",
    "        if np.linalg.norm(x-k)/np.linalg.norm(x) < 1e-9:\n",
    "            break\n",
    "        else:\n",
    "            k = x.copy()\n",
    "            \n",
    "    return k"
   ]
  },
  {
   "cell_type": "markdown",
   "metadata": {},
   "source": [
    "## Gauss-Seidel\n",
    "![seidel](images/seidel.jpg)"
   ]
  },
  {
   "cell_type": "code",
   "execution_count": 14,
   "metadata": {},
   "outputs": [],
   "source": [
    "def seidel(A, b):\n",
    "    # https://www3.nd.edu/~zxu2/acms40390F12/Lec-7.3.pdf\n",
    "    \n",
    "    n = len(b)\n",
    "    x = np.random.rand(n)\n",
    "    k = np.random.rand(n)\n",
    "    \n",
    "    for _ in range(1000):\n",
    "        for i in range(n):\n",
    "            sum_ = 0\n",
    "            for j in range(n):   \n",
    "                if i != j:\n",
    "                    sum_ += A[i, j] * x[j]\n",
    "            \n",
    "            x[i] = (b[i] - sum_)/A[i, i]\n",
    "        \n",
    "        if np.linalg.norm(x - k)/np.linalg.norm(x) < 1e-9:\n",
    "            break\n",
    "        else:\n",
    "            k = x.copy()\n",
    "            \n",
    "    return x"
   ]
  },
  {
   "cell_type": "markdown",
   "metadata": {},
   "source": [
    "## Testes"
   ]
  },
  {
   "cell_type": "code",
   "execution_count": 15,
   "metadata": {},
   "outputs": [],
   "source": [
    "A = np.array([[4,1,1], [1,2,-1], [1,-1,3]], dtype=np.float64)\n",
    "b = np.array([3,1,3/2], dtype=np.float64)\n",
    "\n",
    "# A = np.array([[3,-2,1], [1,-3,2], [-1,2,4]], dtype=np.float64)\n",
    "# b = np.array([3,1,3/2], dtype=np.float64)"
   ]
  },
  {
   "cell_type": "code",
   "execution_count": 16,
   "metadata": {},
   "outputs": [
    {
     "data": {
      "text/plain": [
       "array([0.5, 0.5, 0.5])"
      ]
     },
     "execution_count": 16,
     "metadata": {},
     "output_type": "execute_result"
    }
   ],
   "source": [
    "np.linalg.solve(A,b)"
   ]
  },
  {
   "cell_type": "code",
   "execution_count": 17,
   "metadata": {},
   "outputs": [
    {
     "data": {
      "text/plain": [
       "[0.5, 0.5, 0.5]"
      ]
     },
     "execution_count": 17,
     "metadata": {},
     "output_type": "execute_result"
    }
   ],
   "source": [
    "gauss = list(gaussian_elimination(A, b))\n",
    "solve_upper(gauss[0], gauss[1])"
   ]
  },
  {
   "cell_type": "code",
   "execution_count": 18,
   "metadata": {},
   "outputs": [
    {
     "data": {
      "text/plain": [
       "[0.5, 0.5, 0.5000000000000001]"
      ]
     },
     "execution_count": 18,
     "metadata": {},
     "output_type": "execute_result"
    }
   ],
   "source": [
    "solve_cholesky(A, b)"
   ]
  },
  {
   "cell_type": "code",
   "execution_count": 19,
   "metadata": {},
   "outputs": [
    {
     "data": {
      "text/plain": [
       "array([0.5, 0.5, 0.5])"
      ]
     },
     "execution_count": 19,
     "metadata": {},
     "output_type": "execute_result"
    }
   ],
   "source": [
    "jacobi(A,b)"
   ]
  },
  {
   "cell_type": "code",
   "execution_count": 20,
   "metadata": {
    "scrolled": true
   },
   "outputs": [
    {
     "data": {
      "text/plain": [
       "array([0.5, 0.5, 0.5])"
      ]
     },
     "execution_count": 20,
     "metadata": {},
     "output_type": "execute_result"
    }
   ],
   "source": [
    "seidel(A,b)"
   ]
  }
 ],
 "metadata": {
  "kernelspec": {
   "display_name": "Python 3",
   "language": "python",
   "name": "python3"
  },
  "language_info": {
   "codemirror_mode": {
    "name": "ipython",
    "version": 3
   },
   "file_extension": ".py",
   "mimetype": "text/x-python",
   "name": "python",
   "nbconvert_exporter": "python",
   "pygments_lexer": "ipython3",
   "version": "3.6.9"
  }
 },
 "nbformat": 4,
 "nbformat_minor": 2
}
