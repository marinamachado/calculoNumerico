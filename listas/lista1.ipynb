{
 "cells": [
  {
   "cell_type": "markdown",
   "metadata": {},
   "source": [
    "# Lista 1 Ponto Flutuante/Sistemas Lineares\n"
   ]
  },
  {
   "cell_type": "markdown",
   "metadata": {},
   "source": [
    "## Parte Teórica\n",
    "\n",
    "### Ponto Flutuante\n",
    "\n",
    "#### 1) Avalie se os itens são verdadeiros ou falsos e justifique caso sejam falsos:\n",
    "\n",
    "    a) Se dois numeros reais sao exatamente representados como pontos flutuantes, entao o resultado de uma operação aritmética real entre eles tambem sera representavel como ponto flutuante.\n",
    "\n",
    "    b) Pontos flutuantes são igualmente distribuıdos dentro de seu intervalo de representa¸cao.\n",
    "\n",
    "    c) A operação de adição entre dois pontos flutuantes é associativa, porém nao comutativa."
   ]
  },
  {
   "cell_type": "code",
   "execution_count": null,
   "metadata": {},
   "outputs": [],
   "source": []
  },
  {
   "cell_type": "markdown",
   "metadata": {},
   "source": [
    "#### 2) Para um dado sistema de ponto flutuante, descreva a distribuição de seus elementos ao longo da reta real."
   ]
  },
  {
   "cell_type": "markdown",
   "metadata": {},
   "source": [
    "#### 3) Quais quantidades determinam o erro máximo relativo ao representar um dado número real em um sistema de ponto flutuante?"
   ]
  },
  {
   "cell_type": "markdown",
   "metadata": {},
   "source": [
    "#### 4) Considerando um sistema de ponto flutuante, o produto de dois números dentro deste sistema é representável neste sistema?"
   ]
  },
  {
   "cell_type": "markdown",
   "metadata": {},
   "source": [
    "#### 5) Um sistema de ponto flutuante é caracterizado por quatro inteiros: a base β, a precisão p e os limites inferior e superior L e U respectivamente. Se β = 10, quais são os menores valores de p e L tais que 2365.27 e 0.0000512 sejam representados exatamente em um sistema de ponto flutuante normalizado?"
   ]
  },
  {
   "cell_type": "markdown",
   "metadata": {},
   "source": [
    "#### 6) Seja um sistema de ponto flutuante em que p = 6 dígitos decimais, considerando os números x = 1.23456 e y = 1.23579, quantos dígitos significativos o resultado de y − x possui?"
   ]
  },
  {
   "cell_type": "markdown",
   "metadata": {},
   "source": [
    "### Sistemas Lineares\n",
    "#### Métodos Diretos"
   ]
  },
  {
   "cell_type": "markdown",
   "metadata": {},
   "source": [
    "#### 1) Avalie se os itens são verdadeiros ou falsos e justifique caso sejam falsos:\n",
    "\n",
    "    a) Se uma matriz A é não singular, então o número de soluçõess do sistema linear Ax = b depende da escolha do lado direito do sistema (o vetor b).\n",
    "   \n",
    "    b) Se a matriz tem um determinante muito próximo de zero, então ela é considerada quase singular.\n",
    "    \n",
    "    c) Ao permitir permutar colunas de uma matriz, a fatoração LU sempre será existirá, independente se esta matriz é singular.\n",
    "    \n",
    "    d) Se um sistema linear é bem condicionado, então o pivoteamento é desnecessário na eliminação de Gauss.\n",
    "    \n",
    "    e) Se a matriz é singular, então ela não possui fatoração LU.\n",
    "    \n",
    "    f) Uma vez que a fatoração LU é feita para uma dada matriz para resolução de um sistema linear, outros sistemas com a mesma matriz, porém lados direitos diferentes, podem ser resolvidos sem a necessidade de fatorar a matriz novamente."
   ]
  },
  {
   "cell_type": "markdown",
   "metadata": {},
   "source": [
    "#### 2) Seja a matriz A dada por \n",
    "![odio](matriz.png)\n",
    "\n",
    "#### cuja fatoração LU é feita usando a eliminação de Gauss, qual será o pivô inicial caso:"
   ]
  },
  {
   "cell_type": "markdown",
   "metadata": {},
   "source": [
    "#### 3) Dada uma matriz não singular An×n e uma outra Bn×n, qual é o melhor modo de calcular a matriz A−1B?"
   ]
  },
  {
   "cell_type": "markdown",
   "metadata": {},
   "source": [
    "#### Métodos Iterativos\n"
   ]
  },
  {
   "cell_type": "markdown",
   "metadata": {},
   "source": [
    "#### 1) Liste duas vantagens e duas desvantagens dos m´etodos iterativos quando comparados com os m´etodos diretos para resolu¸c˜ao de sistemas lineares com v´arias inc´ognitas e esparsos."
   ]
  },
  {
   "cell_type": "markdown",
   "metadata": {},
   "source": [
    "#### 2) Qual é a principal limitação dos métodos diretos baseados em fatoração de matrizes ao resolver sistemas lineares grandes e esparsos?"
   ]
  },
  {
   "cell_type": "markdown",
   "metadata": {},
   "source": [
    "#### 4) Ao resolver um sistema linear não singular Ax = b, que propriedade faria o método de GaussJacobi falhar? E para o método de Gauss-Seidel ?"
   ]
  },
  {
   "cell_type": "markdown",
   "metadata": {},
   "source": [
    "#### 5) Responda:\n",
    "    a) Descreva a diferença entre o método de Gauss-Jacobi e Gauss-Seidel para resolver um sistema linear.\n",
    "    \n",
    "    b) Qual método converge com mais rapidez?\n",
    "    \n",
    "    c) Qual método requer menos espaço de armazenamento para as sucessivas aproximações?\n",
    "    "
   ]
  },
  {
   "cell_type": "markdown",
   "metadata": {},
   "source": [
    "#### 6) Mostre que o método iterativo de Gauss-Jacobi para resolver o sistema linear Ax = b converge se a matriz A é diagonal dominante por linhas. (Dica: Use a norma infinita)."
   ]
  },
  {
   "cell_type": "markdown",
   "metadata": {},
   "source": [
    "![odio](matriz.png)"
   ]
  },
  {
   "cell_type": "code",
   "execution_count": null,
   "metadata": {},
   "outputs": [],
   "source": []
  }
 ],
 "metadata": {
  "kernelspec": {
   "display_name": "Python 3",
   "language": "python",
   "name": "python3"
  },
  "language_info": {
   "codemirror_mode": {
    "name": "ipython",
    "version": 3
   },
   "file_extension": ".py",
   "mimetype": "text/x-python",
   "name": "python",
   "nbconvert_exporter": "python",
   "pygments_lexer": "ipython3",
   "version": "3.6.1"
  }
 },
 "nbformat": 4,
 "nbformat_minor": 4
}
